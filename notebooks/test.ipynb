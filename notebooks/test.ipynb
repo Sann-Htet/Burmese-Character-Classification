{
 "cells": [
  {
   "cell_type": "code",
   "execution_count": 1,
   "id": "f7fe6fd2",
   "metadata": {},
   "outputs": [
    {
     "name": "stderr",
     "output_type": "stream",
     "text": [
      "2023-08-27 18:51:26.262339: I tensorflow/tsl/cuda/cudart_stub.cc:28] Could not find cuda drivers on your machine, GPU will not be used.\n",
      "2023-08-27 18:51:26.343115: I tensorflow/tsl/cuda/cudart_stub.cc:28] Could not find cuda drivers on your machine, GPU will not be used.\n",
      "2023-08-27 18:51:26.344167: I tensorflow/core/platform/cpu_feature_guard.cc:182] This TensorFlow binary is optimized to use available CPU instructions in performance-critical operations.\n",
      "To enable the following instructions: AVX2 FMA, in other operations, rebuild TensorFlow with the appropriate compiler flags.\n",
      "2023-08-27 18:51:28.258569: W tensorflow/compiler/tf2tensorrt/utils/py_utils.cc:38] TF-TRT Warning: Could not find TensorRT\n"
     ]
    }
   ],
   "source": [
    "import tensorflow as tf\n",
    "import matplotlib.pyplot as plt\n",
    "import numpy as np\n",
    "import cv2\n",
    "import os"
   ]
  },
  {
   "cell_type": "code",
   "execution_count": 2,
   "id": "3f4ea361",
   "metadata": {},
   "outputs": [
    {
     "name": "stderr",
     "output_type": "stream",
     "text": [
      "2023-08-27 18:51:39.629659: W tensorflow/core/common_runtime/gpu/gpu_device.cc:1960] Cannot dlopen some GPU libraries. Please make sure the missing libraries mentioned above are installed properly if you would like to use GPU. Follow the guide at https://www.tensorflow.org/install/gpu for how to download and setup the required libraries for your platform.\n",
      "Skipping registering GPU devices...\n"
     ]
    }
   ],
   "source": [
    "# Load model via \"saved_model\" format\n",
    "model = tf.keras.models.load_model('../model')"
   ]
  },
  {
   "cell_type": "code",
   "execution_count": 10,
   "id": "d2453f10",
   "metadata": {},
   "outputs": [],
   "source": [
    "def preprocess_image(img_path):\n",
    "    image = tf.keras.preprocessing.image.load_img(img_path) # load image\n",
    "    image = cv2.cvtColor(np.array(image), cv2.COLOR_BGR2GRAY) # convert to Grayscale\n",
    "    image = cv2.resize(image, (30, 30), interpolation=cv2.INTER_LINEAR) # rescale the image\n",
    "    # Apply thresholding to remove noise and enhance contrast\n",
    "    threshold_value = 140  # Adjust this threshold as needed\n",
    "    _, image = cv2.threshold(image, threshold_value, 255, cv2.THRESH_BINARY) # apply threshold to each pixels\n",
    "    image = tf.cast(image, tf.float32) # cast pixel values to float\n",
    "    image = 255 - np.array(image)\n",
    "    # Define the padding values (top, bottom, left, right)\n",
    "    top = 50\n",
    "    bottom = 50\n",
    "    left = 50\n",
    "    right = 50\n",
    "\n",
    "    # Define the padding color (white)\n",
    "    padding_color = [0, 0, 0]\n",
    "\n",
    "    # Add padding to the image\n",
    "    image = cv2.copyMakeBorder(image, top, bottom, left, right, cv2.BORDER_CONSTANT, value=padding_color)\n",
    "    image = cv2.resize(image, (64, 64), interpolation=cv2.INTER_LINEAR) # rescale the image\n",
    "    image = tf.expand_dims(image, axis=0) # add dims to the first axis\n",
    "    image = tf.expand_dims(image, axis=-1) # add dims to the first axis\n",
    "    \n",
    "    return image"
   ]
  },
  {
   "cell_type": "code",
   "execution_count": null,
   "id": "cfa17f80",
   "metadata": {},
   "outputs": [],
   "source": [
    "preprocess_image('../')"
   ]
  }
 ],
 "metadata": {
  "kernelspec": {
   "display_name": "Python 3 (ipykernel)",
   "language": "python",
   "name": "python3"
  },
  "language_info": {
   "codemirror_mode": {
    "name": "ipython",
    "version": 3
   },
   "file_extension": ".py",
   "mimetype": "text/x-python",
   "name": "python",
   "nbconvert_exporter": "python",
   "pygments_lexer": "ipython3",
   "version": "3.11.4"
  }
 },
 "nbformat": 4,
 "nbformat_minor": 5
}
